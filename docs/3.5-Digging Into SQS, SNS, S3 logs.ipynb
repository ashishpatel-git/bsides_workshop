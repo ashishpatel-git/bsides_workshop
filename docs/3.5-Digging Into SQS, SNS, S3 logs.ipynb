{
 "cells": [
  {
   "cell_type": "code",
   "execution_count": 1,
   "metadata": {},
   "outputs": [],
   "source": [
    "import json\n",
    "import boto3"
   ]
  },
  {
   "cell_type": "code",
   "execution_count": 4,
   "metadata": {},
   "outputs": [
    {
     "data": {
      "text/plain": [
       "{'QueueUrls': ['https://us-west-2.queue.amazonaws.com/583449068983/aws_splunk_main_queue',\n",
       "  'https://us-west-2.queue.amazonaws.com/583449068983/aws_splunk_queue_deadletter'],\n",
       " 'ResponseMetadata': {'RequestId': 'd477649d-30b4-5521-86f3-32344a7d98c3',\n",
       "  'HTTPStatusCode': 200,\n",
       "  'HTTPHeaders': {'x-amzn-requestid': 'd477649d-30b4-5521-86f3-32344a7d98c3',\n",
       "   'date': 'Mon, 27 Jan 2020 23:55:53 GMT',\n",
       "   'content-type': 'text/xml',\n",
       "   'content-length': '438'},\n",
       "  'RetryAttempts': 0}}"
      ]
     },
     "metadata": {},
     "output_type": "display_data"
    }
   ],
   "source": [
    "# Let's take a look under the hood at what's happening with our logs. \n",
    "# First we'll take a look at what queues we have available \n",
    "\n",
    "sqs = boto3.client('sqs')\n",
    "queues = sqs.list_queues()\n",
    "display(queues)"
   ]
  },
  {
   "cell_type": "code",
   "execution_count": 10,
   "metadata": {},
   "outputs": [
    {
     "data": {
      "text/plain": [
       "'https://us-west-2.queue.amazonaws.com/583449068983/aws_splunk_main_queue'"
      ]
     },
     "metadata": {},
     "output_type": "display_data"
    }
   ],
   "source": [
    "# Now let's iterate through those queues and print the URL of the \n",
    "# \"aws_splunk_main_queue\" queue.\n",
    "queue_url = [q for q in queues['QueueUrls'] if q.endswith('aws_splunk_main_queue')][0]\n",
    "display(queue_url)"
   ]
  },
  {
   "cell_type": "code",
   "execution_count": 26,
   "metadata": {},
   "outputs": [
    {
     "data": {
      "text/plain": [
       "{'ResponseMetadata': {'RequestId': 'f9e92e41-a1a5-58a9-a63a-78e820bbdb48',\n",
       "  'HTTPStatusCode': 200,\n",
       "  'HTTPHeaders': {'x-amzn-requestid': 'f9e92e41-a1a5-58a9-a63a-78e820bbdb48',\n",
       "   'date': 'Tue, 28 Jan 2020 00:23:04 GMT',\n",
       "   'content-type': 'text/xml',\n",
       "   'content-length': '240'},\n",
       "  'RetryAttempts': 0}}"
      ]
     },
     "metadata": {},
     "output_type": "display_data"
    }
   ],
   "source": [
    "# Pull a message from the queue and see what it looks like.\n",
    "# You might have to try a few times to get something similar to this one\n",
    "sqs.list_queues()\n",
    "message = sqs.receive_message(QueueUrl=queue_url, AttributeNames=[\"All\"])\n",
    "display(message)"
   ]
  },
  {
   "cell_type": "code",
   "execution_count": null,
   "metadata": {},
   "outputs": [],
   "source": [
    "\"\"\"FIXME: Not getting any messages with \"Messages\" like I did before. \n",
    "Not sure why - permissions? No messages to grab?\n",
    "\n",
    "```python\n",
    "message = sqs.receive_message(QueueUrl=queue_url)\n",
    "# Output will be something like:\n",
    "# {'Messages': [{'MessageId': '7de4a3d9-2868-4ece-aeb3-a1460eefb6b3',\n",
    "#    'ReceiptHandle': 'AQEBCfZqk25k+7eRX8VM3yRQyEcu0s5zSv2VcI853B6uYJebyg+K8m7HqrhnRZD6syQlYFc7z7cDAh6f6sJ3u+lcTSK3lLdkzaLeUDwdQHgItr0KPy1dNQGkH/WK/Dt/0BANXCvFiyzvOMvTkl9JiYhEzYH9FRbGwW63xUiEsNxYKIr1h73iZ8KCdWpPElGWrY7/l27KOrj4nM0eWWLCEEIInGoG3JEX89X0QCI5AA4YCx/c1yWDx/a/qLYge5DFmTe2WEEDGj3j91x/aQATRC7cunaKKmUp1lviuq0HBexQFvneH36CHq+7a6WSoreHb8CGDpvD3sa8+bLn3Ng6EwORL+ZMh1lQ7aF3YzHUcC8kkm3QHjpv92INlw20ZsrUCMeIrD/wJibluv30Ptc5VUtUlw==',\n",
    "#    'MD5OfBody': 'c5b1d12d4bf4913856579c8c29a41df2',\n",
    "#    'Body': '{\\n  \"Type\" : \"Notification\",\\n  \"MessageId\" : \"d4ef62a2-b761-565f-ac03-34365d35d874\",\\n  \"TopicArn\" : \"arn:aws:sns:us-west-2:ACCOUNT_ID:bsides-topic\",\\n  \"Message\" : \"{\\\\\"s3Bucket\\\\\":\\\\\"bsides-trail-20200112083857693900000001\\\\\",\\\\\"s3ObjectKey\\\\\":[\\\\\"prefix/AWSLogs/ACCOUNT_ID/CloudTrail/us-west-2/2020/01/12/ACCOUNT_ID_CloudTrail_us-west-2_20200112T0930Z_XNcKI5JFGkzUeu0m.json.gz\\\\\"]}\",\\n  \"Timestamp\" : \"2020-01-12T09:34:12.116Z\",\\n  \"SignatureVersion\" : \"1\",\\n  \"Signature\" : \"Smtdm5Cai/ortbXR7wk1Vv4kwy3RlTelAH2UO4cLx1/tKukQEA/fqyLASZ7A3VkZlJVbSyDJ5n93hBHvY8+mXt5ip39r6O14D3iz7zh5SFUHXJgX8Csr1W9azJTfoiefbquH3bhyceLwQxrnw/FBi1LXkFgDNDsZj753QM0M192TQ1JTxNu2hoph5G++pIRXVVrg7pTYV8xxzJV4C/NvCK0vUnq3BnAnbSHVgWx7IIVlY3i9vmzI7wd7mpc2rDNiJPNHMdaUczCZU31u8WyGasA6EicyhvizUz6AxHfykNcNRPnz/QnBCk+8tnltAf7uF1LlI1ICrwIzbRkQ0gRHcg==\",\\n  \"SigningCertURL\" : \"https://sns.us-west-2.amazonaws.com/SimpleNotificationService-a86cb10b4e1f29c941702d737128f7b6.pem\",\\n  \"UnsubscribeURL\" : \"https://sns.us-west-2.amazonaws.com/?Action=Unsubscribe&SubscriptionArn=arn:aws:sns:us-west-2:ACCOUNT_ID:bsides-topic:c7d39b72-b232-4e5b-8bde-a8a0469c0413\"\\n}'}],\n",
    "#  'ResponseMetadata': {'RequestId': '7daac050-2003-543d-b2ea-96c4d2101de6',\n",
    "#   'HTTPStatusCode': 200,\n",
    "#   'HTTPHeaders': {'x-amzn-requestid': '7daac050-2003-543d-b2ea-96c4d2101de6',\n",
    "#    'date': 'Sun, 12 Jan 2020 10:07:15 GMT',\n",
    "#    'content-type': 'text/xml',\n",
    "#    'content-length': '2198'},\n",
    "#   'RetryAttempts': 0}}\n",
    "```\n",
    "\n",
    "Wow, that is pretty terrible. If we dig in a little bit, it looks like the message body is still raw JSON. Let's pull it out:\n",
    "\n",
    "```python\n",
    "message_body = json.loads(message['Messages'][0]['Body'])\n",
    "\n",
    "message_body['Message']\n",
    "print(message_body)\n",
    "\n",
    "\n",
    "# {'Type': 'Notification',\n",
    "#  'MessageId': 'd4ef62a2-b761-565f-ac03-34365d35d874',\n",
    "#  'TopicArn': 'arn:aws:sns:us-west-2:ACCOUNT_ID:bsides-topic',\n",
    "#  'Message': '{\"s3Bucket\":\"bsides-trail-20200112083857693900000001\",\"s3ObjectKey\":[\"prefix/AWSLogs/ACCOUNT_ID/CloudTrail/us-west-2/2020/01/12/ACCOUNT_ID_CloudTrail_us-west-2_20200112T0930Z_XNcKI5JFGkzUeu0m.json.gz\"]}',\n",
    "#  'Timestamp': '2020-01-12T09:34:12.116Z',\n",
    "#  'SignatureVersion': '1',\n",
    "#  'Signature': 'Smtdm5Cai/ortbXR7wk1Vv4kwy3RlTelAH2UO4cLx1/tKukQEA/fqyLASZ7A3VkZlJVbSyDJ5n93hBHvY8+mXt5ip39r6O14D3iz7zh5SFUHXJgX8Csr1W9azJTfoiefbquH3bhyceLwQxrnw/FBi1LXkFgDNDsZj753QM0M192TQ1JTxNu2hoph5G++pIRXVVrg7pTYV8xxzJV4C/NvCK0vUnq3BnAnbSHVgWx7IIVlY3i9vmzI7wd7mpc2rDNiJPNHMdaUczCZU31u8WyGasA6EicyhvizUz6AxHfykNcNRPnz/QnBCk+8tnltAf7uF1LlI1ICrwIzbRkQ0gRHcg==',\n",
    "#  'SigningCertURL': 'https://sns.us-west-2.amazonaws.com/SimpleNotificationService-a86cb10b4e1f29c941702d737128f7b6.pem',\n",
    "#  'UnsubscribeURL': 'https://sns.us-west-2.amazonaws.com/?Action=Unsubscribe&SubscriptionArn=arn:aws:sns:us-west-2:ACCOUNT_ID:bsides-topic:c7d39b72-b232-4e5b-8bde-a8a0469c0413'}\n",
    "```\n",
    "\n",
    "That's looking better, but the `Message` field seems to be more JSON buried inside that JSON! Let's parse it out:\n",
    "```python\n",
    "message_body_message = json.loads(message_body['Message'])\n",
    "\n",
    "# {'s3Bucket': 'bsides-trail-20200112083857693900000001',\n",
    "#  's3ObjectKey': ['prefix/AWSLogs/ACCOUNT_ID/CloudTrail/us-west-2/2020/01/12/ACCOUNT_ID_CloudTrail_us-west-2_20200112T0930Z_XNcKI5JFGkzUeu0m.json.gz']}\n",
    "```\n",
    "\n",
    "Now we've got something useful. SNS is essentially providing information about where files are being written to in our S3 bucket. Let's grab that file and see what's in it:\n",
    "\n",
    "```python\n",
    "s3 = boto3.client(\"s3\")\n",
    "s3_bucket = message_body_message['s3Bucket']\n",
    "s3_object_key = message_body_message['s3ObjectKey'][0]\n",
    "s3.download_file(s3_bucket, s3_object_key, 'logs.json.gz')\n",
    "```\n",
    "\n",
    "This will download a file named `logs.json.gz` to our local directory. Unzip it with `gunzip logs.json.gz` and you can see the raw log events. These are the same as what will be ingested in Splunk.\n",
    "\"\"\""
   ]
  },
  {
   "cell_type": "code",
   "execution_count": null,
   "metadata": {},
   "outputs": [],
   "source": []
  }
 ],
 "metadata": {
  "kernelspec": {
   "display_name": "Python 3",
   "language": "python",
   "name": "python3"
  },
  "language_info": {
   "codemirror_mode": {
    "name": "ipython",
    "version": 3
   },
   "file_extension": ".py",
   "mimetype": "text/x-python",
   "name": "python",
   "nbconvert_exporter": "python",
   "pygments_lexer": "ipython3",
   "version": "3.7.0"
  }
 },
 "nbformat": 4,
 "nbformat_minor": 4
}
