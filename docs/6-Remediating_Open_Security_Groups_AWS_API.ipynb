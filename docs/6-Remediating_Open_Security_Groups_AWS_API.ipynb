{
 "cells": [
  {
   "cell_type": "markdown",
   "metadata": {},
   "source": [
    "# Finding open security groups with the AWS API\n",
    "\n",
    "AWS API Documentation: https://boto3.amazonaws.com/v1/documentation/api/latest/index.html\n",
    "\n",
    "In this exercise we'll start digging into the AWS API and learn how to find security groups that are open to the world and the EC2 instances that use them.\n",
    "\n",
    "Steps:\n",
    "1) Find all open security groups and output them in an easy-to-use format\n",
    "2) Find of the security groups used by running instances\n",
    "3) Check a whitelist to see whether each instance should be allowed to use an open security group\n",
    "4) Disable non-whitelisted security groups \n",
    "5) Send a notification to be logged in Splunk"
   ]
  },
  {
   "cell_type": "code",
   "execution_count": 1,
   "metadata": {},
   "outputs": [],
   "source": [
    "# First we'll import boto3 to be used for everything else\n",
    "import boto3"
   ]
  },
  {
   "cell_type": "markdown",
   "metadata": {},
   "source": [
    "## describe_security_groups\n",
    "First we'll take a look at what visibility AWS offers us into security group configurations. The `describe_security_group` endpoint can return information for all security groups, giving us a good starting point.\n",
    "\n",
    "Documentation: https://boto3.amazonaws.com/v1/documentation/api/latest/reference/services/ec2.html#EC2.Client.describe_security_groups"
   ]
  },
  {
   "cell_type": "code",
   "execution_count": 2,
   "metadata": {},
   "outputs": [
    {
     "data": {
      "text/plain": [
       "{'sg-05777ecea90c47aae': {'Description': 'launch-wizard-2 created 2020-01-26T15:09:59.654-08:00',\n",
       "  'GroupName': 'launch-wizard-2',\n",
       "  'IpPermissions': [{'FromPort': 8080,\n",
       "    'IpProtocol': 'tcp',\n",
       "    'IpRanges': [{'CidrIp': '0.0.0.0/0'}],\n",
       "    'Ipv6Ranges': [{'CidrIpv6': '::/0'}],\n",
       "    'PrefixListIds': [],\n",
       "    'ToPort': 8080,\n",
       "    'UserIdGroupPairs': []},\n",
       "   {'FromPort': 22,\n",
       "    'IpProtocol': 'tcp',\n",
       "    'IpRanges': [{'CidrIp': '0.0.0.0/0'}],\n",
       "    'Ipv6Ranges': [],\n",
       "    'PrefixListIds': [],\n",
       "    'ToPort': 22,\n",
       "    'UserIdGroupPairs': []}],\n",
       "  'OwnerId': '583449068983',\n",
       "  'GroupId': 'sg-05777ecea90c47aae',\n",
       "  'IpPermissionsEgress': [{'IpProtocol': '-1',\n",
       "    'IpRanges': [{'CidrIp': '0.0.0.0/0'}],\n",
       "    'Ipv6Ranges': [],\n",
       "    'PrefixListIds': [],\n",
       "    'UserIdGroupPairs': []}],\n",
       "  'VpcId': 'vpc-6abc2e12'},\n",
       " 'sg-078a6a1cfe4d82489': {'Description': 'Managed by Terraform',\n",
       "  'GroupName': 'allow_automation_ports_ingress',\n",
       "  'IpPermissions': [{'FromPort': 80,\n",
       "    'IpProtocol': 'tcp',\n",
       "    'IpRanges': [{'CidrIp': '0.0.0.0/0'}],\n",
       "    'Ipv6Ranges': [],\n",
       "    'PrefixListIds': [],\n",
       "    'ToPort': 80,\n",
       "    'UserIdGroupPairs': []},\n",
       "   {'FromPort': 22,\n",
       "    'IpProtocol': 'tcp',\n",
       "    'IpRanges': [{'CidrIp': '0.0.0.0/0'}],\n",
       "    'Ipv6Ranges': [],\n",
       "    'PrefixListIds': [],\n",
       "    'ToPort': 22,\n",
       "    'UserIdGroupPairs': []},\n",
       "   {'FromPort': 443,\n",
       "    'IpProtocol': 'tcp',\n",
       "    'IpRanges': [{'CidrIp': '0.0.0.0/0'}],\n",
       "    'Ipv6Ranges': [],\n",
       "    'PrefixListIds': [],\n",
       "    'ToPort': 443,\n",
       "    'UserIdGroupPairs': []}],\n",
       "  'OwnerId': '583449068983',\n",
       "  'GroupId': 'sg-078a6a1cfe4d82489',\n",
       "  'IpPermissionsEgress': [],\n",
       "  'VpcId': 'vpc-6abc2e12'},\n",
       " 'sg-085e22931921563de': {'Description': 'Managed by Terraform',\n",
       "  'GroupName': 'allow_splunk_ports_ingress',\n",
       "  'IpPermissions': [{'FromPort': 8000,\n",
       "    'IpProtocol': 'tcp',\n",
       "    'IpRanges': [{'CidrIp': '0.0.0.0/0'}],\n",
       "    'Ipv6Ranges': [],\n",
       "    'PrefixListIds': [],\n",
       "    'ToPort': 8000,\n",
       "    'UserIdGroupPairs': []},\n",
       "   {'FromPort': 997,\n",
       "    'IpProtocol': 'tcp',\n",
       "    'IpRanges': [{'CidrIp': '0.0.0.0/0'}],\n",
       "    'Ipv6Ranges': [],\n",
       "    'PrefixListIds': [],\n",
       "    'ToPort': 997,\n",
       "    'UserIdGroupPairs': []},\n",
       "   {'FromPort': 554,\n",
       "    'IpProtocol': 'tcp',\n",
       "    'IpRanges': [{'CidrIp': '0.0.0.0/0'}],\n",
       "    'Ipv6Ranges': [],\n",
       "    'PrefixListIds': [],\n",
       "    'ToPort': 554,\n",
       "    'UserIdGroupPairs': []},\n",
       "   {'FromPort': 22,\n",
       "    'IpProtocol': 'tcp',\n",
       "    'IpRanges': [{'CidrIp': '0.0.0.0/0'}],\n",
       "    'Ipv6Ranges': [],\n",
       "    'PrefixListIds': [],\n",
       "    'ToPort': 22,\n",
       "    'UserIdGroupPairs': []},\n",
       "   {'FromPort': 8089,\n",
       "    'IpProtocol': 'tcp',\n",
       "    'IpRanges': [{'CidrIp': '0.0.0.0/0'}],\n",
       "    'Ipv6Ranges': [],\n",
       "    'PrefixListIds': [],\n",
       "    'ToPort': 8089,\n",
       "    'UserIdGroupPairs': []},\n",
       "   {'FromPort': 443,\n",
       "    'IpProtocol': 'tcp',\n",
       "    'IpRanges': [{'CidrIp': '0.0.0.0/0'}],\n",
       "    'Ipv6Ranges': [],\n",
       "    'PrefixListIds': [],\n",
       "    'ToPort': 443,\n",
       "    'UserIdGroupPairs': []}],\n",
       "  'OwnerId': '583449068983',\n",
       "  'GroupId': 'sg-085e22931921563de',\n",
       "  'IpPermissionsEgress': [{'FromPort': 443,\n",
       "    'IpProtocol': 'tcp',\n",
       "    'IpRanges': [{'CidrIp': '0.0.0.0/0'}],\n",
       "    'Ipv6Ranges': [],\n",
       "    'PrefixListIds': [],\n",
       "    'ToPort': 443,\n",
       "    'UserIdGroupPairs': []}],\n",
       "  'VpcId': 'vpc-6abc2e12'},\n",
       " 'sg-0bdcef5fd54834c4c': {'Description': 'launch-wizard-1 created 2020-01-26T13:59:41.004-08:00',\n",
       "  'GroupName': 'launch-wizard-1',\n",
       "  'IpPermissions': [{'FromPort': 8080,\n",
       "    'IpProtocol': 'tcp',\n",
       "    'IpRanges': [{'CidrIp': '0.0.0.0/0'}],\n",
       "    'Ipv6Ranges': [{'CidrIpv6': '::/0'}],\n",
       "    'PrefixListIds': [],\n",
       "    'ToPort': 8080,\n",
       "    'UserIdGroupPairs': []},\n",
       "   {'FromPort': 22,\n",
       "    'IpProtocol': 'tcp',\n",
       "    'IpRanges': [{'CidrIp': '0.0.0.0/0'}],\n",
       "    'Ipv6Ranges': [],\n",
       "    'PrefixListIds': [],\n",
       "    'ToPort': 22,\n",
       "    'UserIdGroupPairs': []}],\n",
       "  'OwnerId': '583449068983',\n",
       "  'GroupId': 'sg-0bdcef5fd54834c4c',\n",
       "  'IpPermissionsEgress': [{'IpProtocol': '-1',\n",
       "    'IpRanges': [{'CidrIp': '0.0.0.0/0'}],\n",
       "    'Ipv6Ranges': [],\n",
       "    'PrefixListIds': [],\n",
       "    'UserIdGroupPairs': []}],\n",
       "  'VpcId': 'vpc-6abc2e12'}}"
      ]
     },
     "execution_count": 2,
     "metadata": {},
     "output_type": "execute_result"
    }
   ],
   "source": [
    "def open_security_groups():\n",
    "    \"\"\"Return all security groups that are allow inbound connections from the \"\"\"\n",
    "    ec2_client = boto3.client(\"ec2\")\n",
    "    security_groups = ec2_client.describe_security_groups(\n",
    "        Filters=[\n",
    "            {\"Name\": \"ip-permission.cidr\", \"Values\": [\"0.0.0.0/0\"]},\n",
    "        ]\n",
    "    )\n",
    "    # FIXME: Apply whitelist here to allow port 443\n",
    "    return {sg[\"GroupId\"] : sg for sg in security_groups[\"SecurityGroups\"]}\n",
    "\n",
    "open_security_groups()"
   ]
  },
  {
   "cell_type": "code",
   "execution_count": 6,
   "metadata": {},
   "outputs": [
    {
     "data": {
      "text/plain": [
       "{'i-096e3b9655241f365': ['sg-05777ecea90c47aae']}"
      ]
     },
     "execution_count": 6,
     "metadata": {},
     "output_type": "execute_result"
    }
   ],
   "source": [
    "def instance_security_groups():\n",
    "    \"\"\"Return a summary of all the security group IDs assocated with running instances.\n",
    "    \n",
    "    This format will look like: \n",
    "        {'i-096e3b9655241f365': ['sg-05777ecea90c47aae'], ...}\n",
    "    \"\"\"\n",
    "    ec2_client = boto3.client(\"ec2\")\n",
    "    running_instances = ec2_client.describe_instances(\n",
    "        Filters=[\n",
    "            {\"Name\": \"instance-state-name\", \"Values\": [\"running\"]},\n",
    "        ]\n",
    "    )\n",
    "    instances = {}\n",
    "    for reservation in running_instances[\"Reservations\"]:\n",
    "        for instance in reservation[\"Instances\"]:\n",
    "            instance_id = instance[\"InstanceId\"]\n",
    "            for iface in instance[\"NetworkInterfaces\"]:\n",
    "                instances[instance_id] = []\n",
    "                for group in iface[\"Groups\"]:\n",
    "                    instances[instance_id].append(group[\"GroupId\"])\n",
    "    return instances\n",
    "    \n",
    "instance_security_groups()"
   ]
  },
  {
   "cell_type": "markdown",
   "metadata": {},
   "source": [
    "Now that we have easier-to-parse lists of all security groups and the security groups our instances use, we can go through them and easily find which instances are using open security groups."
   ]
  },
  {
   "cell_type": "code",
   "execution_count": 7,
   "metadata": {},
   "outputs": [
    {
     "name": "stdout",
     "output_type": "stream",
     "text": [
      "i-096e3b9655241f365 {'sg-05777ecea90c47aae'}\n"
     ]
    }
   ],
   "source": [
    "open_groups = open_security_groups()\n",
    "instance_groups = instance_security_groups()\n",
    "for instance, groups in instance_groups.items():\n",
    "    intersection = set(groups).intersection(open_groups)\n",
    "    print(instance, intersection)"
   ]
  },
  {
   "cell_type": "markdown",
   "metadata": {},
   "source": [
    "Now that we know we can identify instances with open groups, let's write the code to remove that open group"
   ]
  },
  {
   "cell_type": "code",
   "execution_count": 12,
   "metadata": {},
   "outputs": [
    {
     "data": {
      "text/plain": [
       "[{'GroupName': 'launch-wizard-2', 'GroupId': 'sg-05777ecea90c47aae'}]"
      ]
     },
     "execution_count": 12,
     "metadata": {},
     "output_type": "execute_result"
    }
   ],
   "source": [
    "def remove_security_group(instance_id, sg_id):\n",
    "    ec2_client = boto3.resource(\"ec2\")\n",
    "    instance = ec2_client.Instance(instance_id)\n",
    "    instance.modify_attribute(Groups=[g for g in instance.security_groups if g['GroupId'] not sg_id]) \n",
    "\n",
    "remove_security_group('i-096e3b9655241f365', 'sg-05777ecea90c47aae ')"
   ]
  },
  {
   "cell_type": "markdown",
   "metadata": {},
   "source": [
    "Now we can put it all together:"
   ]
  },
  {
   "cell_type": "code",
   "execution_count": null,
   "metadata": {},
   "outputs": [],
   "source": [
    "def remediate_security_groups():\n",
    "    open_groups = open_security_groups()\n",
    "    instance_groups = instance_security_groups()\n",
    "    for instance, groups in instance_groups.items():\n",
    "        intersection = set(groups).intersection(open_groups)\n",
    "    remove_security_group(instance, intersection)"
   ]
  }
 ],
 "metadata": {
  "kernelspec": {
   "display_name": "Python 3",
   "language": "python",
   "name": "python3"
  },
  "language_info": {
   "codemirror_mode": {
    "name": "ipython",
    "version": 3
   },
   "file_extension": ".py",
   "mimetype": "text/x-python",
   "name": "python",
   "nbconvert_exporter": "python",
   "pygments_lexer": "ipython3",
   "version": "3.7.0"
  }
 },
 "nbformat": 4,
 "nbformat_minor": 4
}
