{
 "cells": [
  {
   "cell_type": "markdown",
   "metadata": {},
   "source": [
    "# Working with the Jira API\n",
    "\n",
    "Working with Jira through the Python SDK is pretty straightforward. We should have already installed it above with pip install jira.\n",
    "\n",
    "Check the full SDK documentation at: https://jira.readthedocs.io/en/master/\n",
    "\n",
    "### Keeping Secrets Secret\n",
    "Secrets management is hard, and committed them to GitHub is bad. For our simple usecase, we can put our secrets in a separate Python file that won't be commiteted to the repo, and import it into our other files. This way we can keep all of our code in a git repo without exposing secrets.\n",
    "\n",
    "```\n",
    "\"\"\" settings.py \"\"\"\n",
    "jira_url = \"$URL\"\n",
    "jira_username = \"$USERNAME\"\n",
    "jira_password = \"$PASSWORD\"\n",
    "```\n",
    "\n",
    "There is already a `settings.py` in this repo, and if you started the notebook server in the same directory you'll be able to import it like this:"
   ]
  },
  {
   "cell_type": "code",
   "execution_count": 1,
   "metadata": {},
   "outputs": [
    {
     "name": "stdout",
     "output_type": "stream",
     "text": [
      "http://34.212.243.72:8080/\n"
     ]
    }
   ],
   "source": [
    "import settings\n",
    "print(settings.jira_url)"
   ]
  },
  {
   "cell_type": "markdown",
   "metadata": {},
   "source": [
    "### Connect to the server"
   ]
  },
  {
   "cell_type": "code",
   "execution_count": 2,
   "metadata": {},
   "outputs": [],
   "source": [
    "import jira\n",
    "\n",
    "j = jira.JIRA(\n",
    "    settings.jira_url,\n",
    "    basic_auth=(settings.jira_username, settings.jira_password),\n",
    ")"
   ]
  },
  {
   "cell_type": "markdown",
   "metadata": {},
   "source": [
    "### List projects"
   ]
  },
  {
   "cell_type": "code",
   "execution_count": 3,
   "metadata": {},
   "outputs": [
    {
     "data": {
      "text/plain": [
       "[<JIRA Project: key='MOS', name='MosesProject1', id='10000'>]"
      ]
     },
     "execution_count": 3,
     "metadata": {},
     "output_type": "execute_result"
    }
   ],
   "source": [
    "j.projects()"
   ]
  },
  {
   "cell_type": "code",
   "execution_count": null,
   "metadata": {},
   "outputs": [],
   "source": [
    "### Create an issue"
   ]
  },
  {
   "cell_type": "code",
   "execution_count": 4,
   "metadata": {},
   "outputs": [
    {
     "name": "stdout",
     "output_type": "stream",
     "text": [
      "MOS-2\n",
      "Hello, world!\n",
      "[]\n"
     ]
    }
   ],
   "source": [
    "issue = j.create_issue(\n",
    "    project=settings.jira_project,\n",
    "    summary=\"Hello, world!\",\n",
    "    description=\"Insert description here\",\n",
    "    issuetype=\"Task\",\n",
    ")\n",
    "print(issue)\n",
    "print(issue.fields.summary)\n",
    "print(issue.fields.comment.comments)"
   ]
  },
  {
   "cell_type": "markdown",
   "metadata": {},
   "source": [
    "### Add a comment"
   ]
  },
  {
   "cell_type": "code",
   "execution_count": 9,
   "metadata": {},
   "outputs": [
    {
     "data": {
      "text/plain": [
       "<JIRA Comment: id='10100'>"
      ]
     },
     "execution_count": 9,
     "metadata": {},
     "output_type": "execute_result"
    }
   ],
   "source": [
    "j.add_comment(\"MOS-2\", \"Hello, comment!\")"
   ]
  },
  {
   "cell_type": "code",
   "execution_count": 10,
   "metadata": {},
   "outputs": [
    {
     "name": "stdout",
     "output_type": "stream",
     "text": [
      "[<JIRA Comment: id='10100'>]\n"
     ]
    }
   ],
   "source": [
    "issue.update()\n",
    "print(issue.fields.comment.comments)"
   ]
  },
  {
   "cell_type": "markdown",
   "metadata": {},
   "source": [
    "### Get a different issue"
   ]
  },
  {
   "cell_type": "code",
   "execution_count": 14,
   "metadata": {},
   "outputs": [
    {
     "name": "stdout",
     "output_type": "stream",
     "text": [
      "MOS-1\n",
      "This is Issue #1!\n"
     ]
    }
   ],
   "source": [
    "different_issue = j.issue(\"MOS-1\")\n",
    "print(different_issue)\n",
    "print(different_issue.fields.summary)"
   ]
  },
  {
   "cell_type": "markdown",
   "metadata": {},
   "source": [
    "### Assign an issue"
   ]
  },
  {
   "cell_type": "code",
   "execution_count": 15,
   "metadata": {},
   "outputs": [
    {
     "data": {
      "text/plain": [
       "True"
      ]
     },
     "execution_count": 15,
     "metadata": {},
     "output_type": "execute_result"
    }
   ],
   "source": [
    "# Assign to someone\n",
    "j.assign_issue(\"MOS-2\", \"SecurityBot\")"
   ]
  },
  {
   "cell_type": "code",
   "execution_count": 16,
   "metadata": {},
   "outputs": [
    {
     "data": {
      "text/plain": [
       "<JIRA User: displayName='SecurityBot', key='JIRAUSER10001', name='SecurityBot'>"
      ]
     },
     "execution_count": 16,
     "metadata": {},
     "output_type": "execute_result"
    }
   ],
   "source": [
    "j.issue(\"MOS-2\").fields.assignee\n"
   ]
  },
  {
   "cell_type": "markdown",
   "metadata": {},
   "source": [
    "### Exercise\n",
    "Given the data in `alert_data` below, write a function to create a ticket and set the fields appropriately."
   ]
  },
  {
   "cell_type": "code",
   "execution_count": 18,
   "metadata": {},
   "outputs": [
    {
     "ename": "SyntaxError",
     "evalue": "invalid syntax (<ipython-input-18-cd8bba3316a1>, line 1)",
     "output_type": "error",
     "traceback": [
      "\u001b[0;36m  File \u001b[0;32m\"<ipython-input-18-cd8bba3316a1>\"\u001b[0;36m, line \u001b[0;32m1\u001b[0m\n\u001b[0;31m    alert_data = {... get example from Splunk ...}\u001b[0m\n\u001b[0m                        ^\u001b[0m\n\u001b[0;31mSyntaxError\u001b[0m\u001b[0;31m:\u001b[0m invalid syntax\n"
     ]
    }
   ],
   "source": [
    "alert_data = {... get example from Splunk ...}\n",
    "\n",
    "def create_alert(alert_data):\n",
    "    FIXME"
   ]
  },
  {
   "cell_type": "code",
   "execution_count": null,
   "metadata": {},
   "outputs": [],
   "source": []
  }
 ],
 "metadata": {
  "kernelspec": {
   "display_name": "Python 3",
   "language": "python",
   "name": "python3"
  },
  "language_info": {
   "codemirror_mode": {
    "name": "ipython",
    "version": 3
   },
   "file_extension": ".py",
   "mimetype": "text/x-python",
   "name": "python",
   "nbconvert_exporter": "python",
   "pygments_lexer": "ipython3",
   "version": "3.7.0"
  }
 },
 "nbformat": 4,
 "nbformat_minor": 4
}
