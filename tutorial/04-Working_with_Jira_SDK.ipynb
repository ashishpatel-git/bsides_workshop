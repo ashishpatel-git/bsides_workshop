{
 "cells": [
  {
   "cell_type": "markdown",
   "metadata": {},
   "source": [
    "# Working with the Jira API\n",
    "\n",
    "Working with Jira through the Python SDK is pretty straightforward. We should have already installed it above with pip install jira.\n",
    "\n",
    "Check the full SDK documentation at: https://jira.readthedocs.io/en/master/\n",
    "\n",
    "### Keeping Secrets Secret\n",
    "Secrets management is hard, and committed them to GitHub is bad. For our simple usecase, we can put our secrets in a separate Python file that won't be commiteted to the repo, and import it into our other files. This way we can keep all of our code in a git repo without exposing secrets.\n",
    "\n",
    "```\n",
    "\"\"\" settings.py \"\"\"\n",
    "jira_url = \"$URL\"\n",
    "jira_username = \"$USERNAME\"\n",
    "jira_password = \"$PASSWORD\"\n",
    "jira_project = \"$PROJECT\"\n",
    "```\n",
    "\n",
    "Note: We will be providing the credentials above for you to access Jira. You will need to place those credentials provided into this settings.py file. \n",
    "\n",
    "There is already a `settings.py` in this repo, and if you started the notebook server in the same directory you'll be able to import it like this:"
   ]
  },
  {
   "cell_type": "code",
   "execution_count": 12,
   "metadata": {
    "scrolled": true
   },
   "outputs": [
    {
     "ename": "AttributeError",
     "evalue": "module 'settings' has no attribute 'server_info'",
     "output_type": "error",
     "traceback": [
      "\u001b[0;31m---------------------------------------------------------------------------\u001b[0m",
      "\u001b[0;31mAttributeError\u001b[0m                            Traceback (most recent call last)",
      "\u001b[0;32m<ipython-input-12-f21009e76535>\u001b[0m in \u001b[0;36m<module>\u001b[0;34m\u001b[0m\n\u001b[1;32m      1\u001b[0m \u001b[0;32mimport\u001b[0m \u001b[0msettings\u001b[0m\u001b[0;34m\u001b[0m\u001b[0m\n\u001b[0;32m----> 2\u001b[0;31m \u001b[0mprint\u001b[0m\u001b[0;34m(\u001b[0m\u001b[0msettings\u001b[0m\u001b[0;34m.\u001b[0m\u001b[0mserver_info\u001b[0m\u001b[0;34m(\u001b[0m\u001b[0;34m)\u001b[0m\u001b[0;34m)\u001b[0m\u001b[0;34m\u001b[0m\u001b[0m\n\u001b[0m",
      "\u001b[0;31mAttributeError\u001b[0m: module 'settings' has no attribute 'server_info'"
     ]
    }
   ],
   "source": [
    "import settings\n",
    "print(settings)"
   ]
  },
  {
   "cell_type": "markdown",
   "metadata": {},
   "source": [
    "### Connect to the server"
   ]
  },
  {
   "cell_type": "code",
   "execution_count": 13,
   "metadata": {},
   "outputs": [
    {
     "name": "stdout",
     "output_type": "stream",
     "text": [
      "<jira.client.JIRA object at 0x109193a20>\n",
      "{'baseUrl': 'http://ec2-54-188-57-109.us-west-2.compute.amazonaws.com:8080', 'version': '8.6.1', 'versionNumbers': [8, 6, 1], 'deploymentType': 'Server', 'buildNumber': 806001, 'buildDate': '2020-01-08T00:00:00.000+0000', 'databaseBuildNumber': 806001, 'serverTime': '2020-02-21T23:46:50.904+0000', 'scmInfo': 'b7cf80b32883e8ebb99c35d38312f313df91deda', 'serverTitle': 'JIRA'}\n"
     ]
    }
   ],
   "source": [
    "import jira\n",
    "\n",
    "j = jira.JIRA(\n",
    "    settings.jira_url,\n",
    "    basic_auth=(settings.jira_username, settings.jira_password),\n",
    ")\n",
    "print(j)\n",
    "print(j.server_info())"
   ]
  },
  {
   "cell_type": "markdown",
   "metadata": {},
   "source": [
    "### List projects"
   ]
  },
  {
   "cell_type": "code",
   "execution_count": 3,
   "metadata": {},
   "outputs": [
    {
     "data": {
      "text/plain": [
       "[<JIRA Project: key='MOS', name='MosesProject1', id='10000'>,\n",
       " <JIRA Project: key='TST', name='TST', id='10100'>,\n",
       " <JIRA Project: key='VVV', name='VVV', id='10105'>,\n",
       " <JIRA Project: key='WWW', name='WWW', id='10104'>,\n",
       " <JIRA Project: key='XXX', name='XXX', id='10103'>,\n",
       " <JIRA Project: key='YYY', name='YYY', id='10102'>,\n",
       " <JIRA Project: key='ZZZ', name='ZZZ', id='10101'>]"
      ]
     },
     "execution_count": 3,
     "metadata": {},
     "output_type": "execute_result"
    }
   ],
   "source": [
    "j.projects()"
   ]
  },
  {
   "cell_type": "markdown",
   "metadata": {},
   "source": [
    "### Create an issue"
   ]
  },
  {
   "cell_type": "code",
   "execution_count": 5,
   "metadata": {},
   "outputs": [
    {
     "name": "stdout",
     "output_type": "stream",
     "text": [
      "MOS-43\n",
      "Hello, world!\n",
      "[]\n",
      "http://54.245.105.183:8080/browse/MOS-43\n"
     ]
    }
   ],
   "source": [
    "issue = j.create_issue(\n",
    "    project=settings.jira_project,\n",
    "    summary=\"Hello, world!\",\n",
    "    description=\"Insert description here\",\n",
    "    issuetype=\"Task\",\n",
    ")\n",
    "print(issue)\n",
    "print(issue.fields.summary)\n",
    "print(issue.fields.comment.comments)\n",
    "print(issue.permalink())"
   ]
  },
  {
   "cell_type": "markdown",
   "metadata": {},
   "source": [
    "### Add a comment"
   ]
  },
  {
   "cell_type": "code",
   "execution_count": 6,
   "metadata": {},
   "outputs": [
    {
     "data": {
      "text/plain": [
       "<JIRA Comment: id='10203'>"
      ]
     },
     "execution_count": 6,
     "metadata": {},
     "output_type": "execute_result"
    }
   ],
   "source": [
    "j.add_comment(issue.key, \"Hello, comment!\")"
   ]
  },
  {
   "cell_type": "code",
   "execution_count": 10,
   "metadata": {},
   "outputs": [
    {
     "name": "stdout",
     "output_type": "stream",
     "text": [
      "[<JIRA Comment: id='10203'>]\n",
      "Hello, comment!\n"
     ]
    }
   ],
   "source": [
    "issue.update()\n",
    "print(issue.fields.comment.comments)\n",
    "print(issue.fields.comment.comments[0].body)"
   ]
  },
  {
   "cell_type": "markdown",
   "metadata": {},
   "source": [
    "### Get a different issue"
   ]
  },
  {
   "cell_type": "code",
   "execution_count": 11,
   "metadata": {},
   "outputs": [
    {
     "name": "stdout",
     "output_type": "stream",
     "text": [
      "MOS-1\n",
      "This is Issue #1!\n"
     ]
    }
   ],
   "source": [
    "different_issue = j.issue(\"MOS-1\")\n",
    "print(different_issue)\n",
    "print(different_issue.fields.summary)"
   ]
  },
  {
   "cell_type": "markdown",
   "metadata": {},
   "source": [
    "### Assign an issue"
   ]
  },
  {
   "cell_type": "code",
   "execution_count": 12,
   "metadata": {},
   "outputs": [
    {
     "data": {
      "text/plain": [
       "True"
      ]
     },
     "execution_count": 12,
     "metadata": {},
     "output_type": "execute_result"
    }
   ],
   "source": [
    "# Assign to someone\n",
    "j.assign_issue(issue.key, \"SecurityBot\")"
   ]
  },
  {
   "cell_type": "code",
   "execution_count": 13,
   "metadata": {},
   "outputs": [
    {
     "data": {
      "text/plain": [
       "<JIRA User: displayName='SecurityBot', key='JIRAUSER10001', name='SecurityBot'>"
      ]
     },
     "execution_count": 13,
     "metadata": {},
     "output_type": "execute_result"
    }
   ],
   "source": [
    "j.issue(issue.key).fields.assignee"
   ]
  },
  {
   "cell_type": "markdown",
   "metadata": {},
   "source": [
    "### Exercise\n",
    "Write a function to create a ticket."
   ]
  },
  {
   "cell_type": "code",
   "execution_count": 15,
   "metadata": {},
   "outputs": [
    {
     "name": "stdout",
     "output_type": "stream",
     "text": [
      "http://54.245.105.183:8080/browse/MOS-13\n"
     ]
    }
   ],
   "source": [
    "def create_ticket(summary, description):\n",
    "    # Code goes here\n",
    "    return issue\n",
    "\n",
    "t = create_ticket(\"test_ticket\", \"test_description\")\n",
    "print(t.permalink())"
   ]
  },
  {
   "cell_type": "code",
   "execution_count": null,
   "metadata": {},
   "outputs": [],
   "source": []
  }
 ],
 "metadata": {
  "kernelspec": {
   "display_name": "Python 3",
   "language": "python",
   "name": "python3"
  },
  "language_info": {
   "codemirror_mode": {
    "name": "ipython",
    "version": 3
   },
   "file_extension": ".py",
   "mimetype": "text/x-python",
   "name": "python",
   "nbconvert_exporter": "python",
   "pygments_lexer": "ipython3",
   "version": "3.7.0"
  }
 },
 "nbformat": 4,
 "nbformat_minor": 4
}
