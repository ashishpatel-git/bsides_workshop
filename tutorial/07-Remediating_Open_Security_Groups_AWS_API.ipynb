{
 "cells": [
  {
   "cell_type": "markdown",
   "metadata": {},
   "source": [
    "# Finding open security groups with the AWS API\n",
    "\n",
    "AWS API Documentation: https://boto3.amazonaws.com/v1/documentation/api/latest/index.html\n",
    "\n",
    "In this exercise we'll start digging into the AWS API and learn how to find security groups that are open to the world and the EC2 instances that use them.\n",
    "\n",
    "Steps:\n",
    "1) Find all open security groups and output them in an easy-to-use format\n",
    "2) Find of the security groups used by running instances\n",
    "3) Check a whitelist to see whether each instance should be allowed to use an open security group\n",
    "4) Disable non-whitelisted security groups \n",
    "5) Send a notification to be logged in Splunk"
   ]
  },
  {
   "cell_type": "code",
   "execution_count": 27,
   "metadata": {},
   "outputs": [],
   "source": [
    "# First we'll import boto3 to be used for everything else\n",
    "import boto3"
   ]
  },
  {
   "cell_type": "markdown",
   "metadata": {},
   "source": [
    "## describe_security_groups\n",
    "First we'll take a look at what visibility AWS offers us into security group configurations. The `describe_security_group` endpoint can return information for all security groups, giving us a good starting point.\n",
    "\n",
    "Documentation: https://boto3.amazonaws.com/v1/documentation/api/latest/reference/services/ec2.html#EC2.Client.describe_security_groups"
   ]
  },
  {
   "cell_type": "code",
   "execution_count": 75,
   "metadata": {},
   "outputs": [
    {
     "data": {
      "text/plain": [
       "{'sg-071946f055fc746a9': 'Malicious security group',\n",
       " 'sg-07fbb9a5a95041c4e': 'more evil security groups',\n",
       " 'sg-08313b169ba1edf2e': 'despicable security group'}"
      ]
     },
     "execution_count": 75,
     "metadata": {},
     "output_type": "execute_result"
    }
   ],
   "source": [
    "def open_security_groups():\n",
    "    \"\"\"Return all security groups that are allow inbound connections from the \"\"\"\n",
    "    ec2_client = boto3.client(\"ec2\")\n",
    "    security_groups = ec2_client.describe_security_groups(\n",
    "        Filters=[\n",
    "            {\"Name\": \"ip-permission.cidr\", \"Values\": [\"0.0.0.0/0\"]},\n",
    "        ]\n",
    "    )\n",
    "    groups_whitelist = [\"allow_splunk_ports_ingress\"]\n",
    "    ports_whitelist = [22, 80, 443, 8080, 8000]\n",
    "    open_groups = {}\n",
    "    for sg in security_groups[\"SecurityGroups\"]:\n",
    "        for permission in sg[\"IpPermissions\"]:\n",
    "            if sg[\"GroupName\"] not in groups_whitelist and permission[\"ToPort\"] not in ports_whitelist:\n",
    "                open_groups[sg[\"GroupId\"]] = sg[\"GroupName\"]\n",
    "    return open_groups\n",
    "\n",
    "open_security_groups()"
   ]
  },
  {
   "cell_type": "code",
   "execution_count": 76,
   "metadata": {},
   "outputs": [
    {
     "data": {
      "text/plain": [
       "{'i-096e3b9655241f365': ['sg-071946f055fc746a9',\n",
       "  'sg-08313b169ba1edf2e',\n",
       "  'sg-07fbb9a5a95041c4e',\n",
       "  'sg-05777ecea90c47aae']}"
      ]
     },
     "execution_count": 76,
     "metadata": {},
     "output_type": "execute_result"
    }
   ],
   "source": [
    "def instance_security_groups():\n",
    "    \"\"\"Return a summary of all the security group IDs assocated with running instances.\n",
    "    \n",
    "    This format will look like: \n",
    "        {'i-096e3b9655241f365': ['sg-05777ecea90c47aae'], ...}\n",
    "    \"\"\"\n",
    "    ec2_client = boto3.client(\"ec2\")\n",
    "    running_instances = ec2_client.describe_instances(\n",
    "        Filters=[\n",
    "            {\"Name\": \"instance-state-name\", \"Values\": [\"running\", \"stopped\"]},\n",
    "        ]\n",
    "    )\n",
    "    instances = {}\n",
    "    for reservation in running_instances[\"Reservations\"]:\n",
    "        for instance in reservation[\"Instances\"]:\n",
    "            instance_id = instance[\"InstanceId\"]\n",
    "            for iface in instance[\"NetworkInterfaces\"]:\n",
    "                instances[instance_id] = []\n",
    "                for group in iface[\"Groups\"]:\n",
    "                    instances[instance_id].append(group[\"GroupId\"])\n",
    "    return instances\n",
    "    \n",
    "instance_security_groups()"
   ]
  },
  {
   "cell_type": "markdown",
   "metadata": {},
   "source": [
    "Now that we have easier-to-parse lists of all security groups and the security groups our instances use, we can go through them and easily find which instances are using open security groups."
   ]
  },
  {
   "cell_type": "code",
   "execution_count": 77,
   "metadata": {},
   "outputs": [
    {
     "name": "stdout",
     "output_type": "stream",
     "text": [
      "i-096e3b9655241f365 ['sg-08313b169ba1edf2e', 'sg-071946f055fc746a9', 'sg-07fbb9a5a95041c4e']\n"
     ]
    }
   ],
   "source": [
    "open_groups = open_security_groups().keys()\n",
    "instance_groups = instance_security_groups()\n",
    "for instance, groups in instance_groups.items():\n",
    "    instance_open_groups = list(set(groups).intersection(open_groups))\n",
    "    if instance_open_groups:\n",
    "        print(instance, instance_open_groups)"
   ]
  },
  {
   "cell_type": "markdown",
   "metadata": {},
   "source": [
    "Now that we know we can identify instances with open groups, let's write the code to remove that open group"
   ]
  },
  {
   "cell_type": "code",
   "execution_count": 78,
   "metadata": {},
   "outputs": [],
   "source": [
    "def remove_security_group(instance_id, sg_id):\n",
    "    ec2 = boto3.client('ec2')\n",
    "    default_group_id = ec2.describe_security_groups(\n",
    "        Filters=[\n",
    "            dict(Name='group-name', Values=['default'])\n",
    "        ]\n",
    "    )['SecurityGroups'][0]['GroupId']\n",
    "    this_group_name = ec2.describe_security_groups(\n",
    "        Filters=[\n",
    "            dict(Name='group-id', Values=[sg_id])\n",
    "        ]\n",
    "    )['SecurityGroups'][0]['GroupName']    \n",
    "    ec2_resource = boto3.resource(\"ec2\")\n",
    "    # Here we check if the word \"despicable\" is in the security group and refuse to delete if not.\n",
    "    # We don't want accidentally delete something!\n",
    "    if not \"despicable\" in this_group_name:\n",
    "        return f\"Cowardly refusing to delete non-despicable group {this_group_name} ({sg_id})\"\n",
    "    instance = ec2_resource.Instance(instance_id)\n",
    "    new_groups = [g[\"GroupId\"] for g in instance.security_groups if g[\"GroupId\"] != sg_id]\n",
    "    # Security groups can't be empty, so if this list is empty use the default security group\n",
    "    if not new_groups:\n",
    "        new_groups = [default_group_id]\n",
    "    instance.modify_attribute(Groups=new_groups)\n",
    "    return \"Done\""
   ]
  },
  {
   "cell_type": "markdown",
   "metadata": {},
   "source": [
    "Now we can put it all together:"
   ]
  },
  {
   "cell_type": "code",
   "execution_count": 79,
   "metadata": {},
   "outputs": [
    {
     "data": {
      "text/plain": [
       "['Removing sg-08313b169ba1edf2e from i-096e3b9655241f365: Done',\n",
       " 'Removing sg-071946f055fc746a9 from i-096e3b9655241f365: Cowardly refusing to delete non-despicable group Malicious security group (sg-071946f055fc746a9)',\n",
       " 'Removing sg-07fbb9a5a95041c4e from i-096e3b9655241f365: Cowardly refusing to delete non-despicable group more evil security groups (sg-07fbb9a5a95041c4e)']"
      ]
     },
     "execution_count": 79,
     "metadata": {},
     "output_type": "execute_result"
    }
   ],
   "source": [
    "def remediate_open_security_groups():\n",
    "    open_groups = open_security_groups().keys()\n",
    "    instance_groups = instance_security_groups()\n",
    "    removal_summary = []\n",
    "    for instance, groups in instance_groups.items():\n",
    "        instance_open_groups = list(set(groups).intersection(open_groups))\n",
    "        for group in instance_open_groups:\n",
    "            removal_summary.append(f\"Removing {group} from {instance}: {remove_security_group(instance, group)}\")\n",
    "    return removal_summary\n",
    "\n",
    "remediate_open_security_groups()"
   ]
  },
  {
   "cell_type": "code",
   "execution_count": null,
   "metadata": {},
   "outputs": [],
   "source": []
  }
 ],
 "metadata": {
  "kernelspec": {
   "display_name": "Python 3",
   "language": "python",
   "name": "python3"
  },
  "language_info": {
   "codemirror_mode": {
    "name": "ipython",
    "version": 3
   },
   "file_extension": ".py",
   "mimetype": "text/x-python",
   "name": "python",
   "nbconvert_exporter": "python",
   "pygments_lexer": "ipython3",
   "version": "3.7.0"
  }
 },
 "nbformat": 4,
 "nbformat_minor": 4
}
